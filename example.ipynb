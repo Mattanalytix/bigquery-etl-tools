{
 "cells": [
  {
   "cell_type": "markdown",
   "metadata": {},
   "source": [
    "# BigQuery ETL Tools"
   ]
  },
  {
   "cell_type": "markdown",
   "metadata": {},
   "source": [
    "### Setup Variables"
   ]
  },
  {
   "cell_type": "code",
   "execution_count": null,
   "metadata": {},
   "outputs": [],
   "source": [
    "! gcloud auth application-default login\n",
    "! gcloud config set project jetty-platform-reporting-dev"
   ]
  },
  {
   "cell_type": "code",
   "execution_count": null,
   "metadata": {},
   "outputs": [],
   "source": [
    "import logging\n",
    "import polars as pl\n",
    "from datetime import datetime, timezone\n",
    "\n",
    "logging.basicConfig(\n",
    "    level=logging.INFO,\n",
    "    format=\"%(asctime)s [%(levelname)s] %(message)s\",\n",
    "    handlers=[\n",
    "        logging.FileHandler(\"debug.log\"),\n",
    "        logging.StreamHandler()\n",
    "    ]\n",
    ")\n",
    "\n",
    "dataframe = pl.DataFrame(\n",
    "    {\n",
    "        \"A\": [1, 2, 3, 4, 5],\n",
    "        \"fruits\": [\"banana\", \"banana\", \"apple\", \"apple\", \"banana\"],\n",
    "        \"B\": [5, 4, 3, 2, 1],\n",
    "        \"cars\": [\"beetle\", \"audi\", \"beetle\", \"beetle\", \"beetle\"],\n",
    "        \"bool_test\": [True, False, True, False, True],\n",
    "        \"test_dt\": [datetime(2024, 1, 1)] * 5\n",
    "    }\n",
    ")"
   ]
  },
  {
   "cell_type": "markdown",
   "metadata": {},
   "source": [
    "### Load Dataframe into BigQuery"
   ]
  },
  {
   "cell_type": "code",
   "execution_count": null,
   "metadata": {},
   "outputs": [],
   "source": [
    "import os\n",
    "from bigquery_etl_tools_package_tup import dataframe_to_bigquery\n",
    "\n",
    "file_type = 'csv'\n",
    "now_ts = int(round(datetime.now(timezone.utc).timestamp()))\n",
    "\n",
    "bucket_name = os.environ['BUCKET']\n",
    "dataset_name = os.environ['DATASET']\n",
    "\n",
    "table_name = f'dataframe_to_bigquery_test_{file_type}'\n",
    "blob_name = f'bigquery_etl_tools/tests/{now_ts}_{table_name}.{file_type}'\n",
    "table_id = f'{dataset_name}.{table_name}'"
   ]
  },
  {
   "cell_type": "code",
   "execution_count": null,
   "metadata": {},
   "outputs": [],
   "source": [
    "blob, table = dataframe_to_bigquery(\n",
    "    dataframe,\n",
    "    bucket_name,\n",
    "    blob_name,\n",
    "    table_id,\n",
    "    file_type\n",
    ")"
   ]
  },
  {
   "cell_type": "markdown",
   "metadata": {},
   "source": [
    "### Autodetect BigQuery Schema of Dataframe"
   ]
  },
  {
   "cell_type": "code",
   "execution_count": null,
   "metadata": {},
   "outputs": [],
   "source": [
    "from bigquery_etl_tools_package_tup import autodetect_dataframe_schema\n",
    "file_type = 'csv'\n",
    "now_ts = int(round(datetime.now(timezone.utc).timestamp()))\n",
    "\n",
    "bucket_name = os.environ['BUCKET']\n",
    "dataset_name = os.environ['DATASET']\n",
    "\n",
    "blob_name = f'bigquery_etl_tools/tests/{now_ts}_{table_name}.{file_type}'\n",
    "table_id = f'{dataset_name}.{table_name}'\n",
    "\n",
    "filepath = autodetect_dataframe_schema(\n",
    "    dataframe,\n",
    "    bucket_name,\n",
    "    blob_name,\n",
    "    table_id\n",
    ")\n",
    "\n",
    "print(filepath)"
   ]
  }
 ],
 "metadata": {
  "kernelspec": {
   "display_name": "gcp_ingest_utils",
   "language": "python",
   "name": "python3"
  },
  "language_info": {
   "codemirror_mode": {
    "name": "ipython",
    "version": 3
   },
   "file_extension": ".py",
   "mimetype": "text/x-python",
   "name": "python",
   "nbconvert_exporter": "python",
   "pygments_lexer": "ipython3",
   "version": "3.13.0"
  }
 },
 "nbformat": 4,
 "nbformat_minor": 2
}
